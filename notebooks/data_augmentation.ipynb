{
 "cells": [
  {
   "cell_type": "markdown",
   "metadata": {},
   "source": [
    "# Data Augmentation\n",
    "This notebook is used to augment the data. The following augmentations are performed:\n",
    "- Rotation\n",
    "- Horizontal Flip\n",
    "- Increase Brightness\n",
    "- Decrease Brightness\n",
    "- Add Gaussian Noise"
   ]
  },
  {
   "cell_type": "code",
   "execution_count": 1,
   "metadata": {},
   "outputs": [],
   "source": [
    "import cv2\n",
    "import numpy as np\n",
    "import random\n",
    "import os\n",
    "from PIL import Image\n",
    "from tqdm import tqdm"
   ]
  },
  {
   "cell_type": "code",
   "execution_count": 68,
   "metadata": {},
   "outputs": [],
   "source": [
    "def rotate(image):\n",
    "    \"\"\"\n",
    "    Rotate image by angle 15\n",
    "\n",
    "    Parameters\n",
    "    ----------\n",
    "    image : numpy.ndarray\n",
    "        Image to be rotated\n",
    "\n",
    "    Returns\n",
    "    -------\n",
    "    numpy.ndarray\n",
    "        Rotated image\n",
    "    \"\"\"\n",
    "    angle = 15\n",
    "    (h, w) = image.shape[:2]\n",
    "    center = (w // 2, h // 2)\n",
    "    M = cv2.getRotationMatrix2D(center, angle, 1.0)\n",
    "    return cv2.warpAffine(image, M, (w, h))"
   ]
  },
  {
   "cell_type": "code",
   "execution_count": 69,
   "metadata": {},
   "outputs": [],
   "source": [
    "def horizontal_flip(image):\n",
    "    \"\"\"\n",
    "    Flip image horizontally\n",
    "\n",
    "    Parameters\n",
    "    ----------\n",
    "    image : numpy.ndarray\n",
    "        Image to be flipped\n",
    "        \n",
    "    Returns\n",
    "    -------\n",
    "    numpy.ndarray\n",
    "        Flipped image\n",
    "    \"\"\"\n",
    "    return cv2.flip(image, 1)"
   ]
  },
  {
   "cell_type": "code",
   "execution_count": 82,
   "metadata": {},
   "outputs": [],
   "source": [
    "def increase_brightness(image, alpha=1.5, beta=30):\n",
    "    \"\"\"\n",
    "    Increase the brightness of the image.\n",
    "\n",
    "    Parameters\n",
    "    ----------\n",
    "    image : numpy.ndarray\n",
    "        The image to be adjusted.\n",
    "    alpha : float\n",
    "        Contrast control (1.0-3.0).\n",
    "    beta : int\n",
    "        Brightness control (0-100).\n",
    "\n",
    "    Returns\n",
    "    -------\n",
    "    numpy.ndarray\n",
    "        The adjusted image.\n",
    "    \"\"\"\n",
    "    return cv2.convertScaleAbs(image, alpha=alpha, beta=beta)"
   ]
  },
  {
   "cell_type": "code",
   "execution_count": 88,
   "metadata": {},
   "outputs": [],
   "source": [
    "def decrease_brightness(image, alpha=0.8, beta=-30):\n",
    "    \"\"\"\n",
    "    Decrease the brightness of the image.\n",
    "\n",
    "    Parameters\n",
    "    ----------\n",
    "    image : numpy.ndarray\n",
    "        The image to be adjusted.\n",
    "    alpha : float\n",
    "        Contrast control (0.1-1.0).\n",
    "    beta : int\n",
    "        Brightness control (-100-0).\n",
    "\n",
    "    Returns\n",
    "    -------\n",
    "    numpy.ndarray\n",
    "        The adjusted image.\n",
    "    \"\"\"\n",
    "    return cv2.convertScaleAbs(image, alpha=alpha, beta=beta)"
   ]
  },
  {
   "cell_type": "code",
   "execution_count": 89,
   "metadata": {},
   "outputs": [],
   "source": [
    "def add_gaussian_noise(image):\n",
    "    \"\"\"\n",
    "    Add gaussian noise to image\n",
    "\n",
    "    Parameters\n",
    "    ----------\n",
    "    image : numpy.ndarray\n",
    "        Image to be added noise\n",
    "\n",
    "    Returns\n",
    "    -------\n",
    "    numpy.ndarray\n",
    "        Image with noise\n",
    "    \"\"\"\n",
    "    row, col, ch = image.shape\n",
    "    mean = 0\n",
    "    var = 2500\n",
    "    sigma = var ** 0.5\n",
    "    gauss = np.random.normal(mean, sigma, (row, col, ch))\n",
    "    gauss = gauss.reshape(row, col, ch)\n",
    "    return image + gauss"
   ]
  },
  {
   "cell_type": "code",
   "execution_count": 90,
   "metadata": {},
   "outputs": [],
   "source": [
    "# Dictionary of available augmentations\n",
    "available_augmentations = {\n",
    "    'rotate': rotate,\n",
    "    'horizontal_flip': horizontal_flip,\n",
    "    'increase_brightness': increase_brightness,\n",
    "    'decrease_brightness': decrease_brightness,\n",
    "    'gaussian_noise': add_gaussian_noise\n",
    "}"
   ]
  },
  {
   "cell_type": "code",
   "execution_count": 91,
   "metadata": {},
   "outputs": [],
   "source": [
    "def data_augmentation(image):\n",
    "    \"\"\"\n",
    "    Apply each augmentation to the image sequentially.\n",
    "\n",
    "    Parameters\n",
    "    ----------\n",
    "    image : numpy.ndarray\n",
    "        The image to be augmented.\n",
    "\n",
    "    Returns\n",
    "    -------\n",
    "    list\n",
    "        A list of augmented images.\n",
    "    \"\"\"\n",
    "    augmented_images = []\n",
    "    \n",
    "    for aug_name, aug_function in available_augmentations.items():\n",
    "        augmented = image.copy()  # Make a copy of the original image to augment\n",
    "        augmented = aug_function(augmented)  # Apply the augmentation\n",
    "        augmented_images.append(augmented)  # Append the augmented image to the list\n",
    "    \n",
    "    return augmented_images"
   ]
  },
  {
   "cell_type": "code",
   "execution_count": 93,
   "metadata": {},
   "outputs": [
    {
     "name": "stderr",
     "output_type": "stream",
     "text": [
      "Processing images in /Users/pierreachkar/Documents/MA/folder/train/Divers: 100%|██████████| 364/364 [03:08<00:00,  1.93it/s]\n",
      "Processing images in /Users/pierreachkar/Documents/MA/folder/train/IdealisiertNormschön: 100%|██████████| 378/378 [04:07<00:00,  1.53it/s]\n"
     ]
    }
   ],
   "source": [
    "# List of directories\n",
    "folders = [\n",
    "    '/Users/pierreachkar/Documents/MA/folder/train/Divers',\n",
    "    '/Users/pierreachkar/Documents/MA/folder/train/IdealisiertNormschön'\n",
    "]\n",
    "\n",
    "# Loop through each directory\n",
    "for folder in folders:\n",
    "    # Get the list of filenames in the directory\n",
    "    filenames = [f for f in os.listdir(folder) if f.endswith(\".jpg\")]\n",
    "    \n",
    "    # Loop through each file in the directory with tqdm for a progress bar\n",
    "    for filename in tqdm(filenames, desc=f\"Processing images in {folder}\"):\n",
    "        image_path = os.path.join(folder, filename)\n",
    "        image = cv2.imread(image_path)\n",
    "        \n",
    "        augmented_images = data_augmentation(image)\n",
    "        \n",
    "        # Save the augmented images\n",
    "        for i, img in enumerate(augmented_images):\n",
    "            new_filename = f\"{filename.split('.')[0]}_augmented_{i}.jpg\"\n",
    "            new_path = os.path.join(folder, new_filename)\n",
    "            cv2.imwrite(new_path, img)"
   ]
  }
 ],
 "metadata": {
  "kernelspec": {
   "display_name": "ma",
   "language": "python",
   "name": "python3"
  },
  "language_info": {
   "codemirror_mode": {
    "name": "ipython",
    "version": 3
   },
   "file_extension": ".py",
   "mimetype": "text/x-python",
   "name": "python",
   "nbconvert_exporter": "python",
   "pygments_lexer": "ipython3",
   "version": "3.10.12"
  },
  "orig_nbformat": 4
 },
 "nbformat": 4,
 "nbformat_minor": 2
}
