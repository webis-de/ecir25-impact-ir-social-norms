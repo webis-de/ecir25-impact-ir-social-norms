{
 "cells": [
  {
   "cell_type": "markdown",
   "metadata": {},
   "source": [
    "# Model Testing\n",
    "This notebook is used to test the model on the test set."
   ]
  },
  {
   "cell_type": "code",
   "execution_count": null,
   "metadata": {},
   "outputs": [],
   "source": [
    "from glob import glob\n",
    "import os\n",
    "import torch\n",
    "from PIL import Image\n",
    "import matplotlib.pyplot as plt\n",
    "from transformers import ViTImageProcessor\n",
    "from transformers import ViTForImageClassification"
   ]
  },
  {
   "cell_type": "code",
   "execution_count": null,
   "metadata": {},
   "outputs": [],
   "source": [
    "fine_tuned_model = '/content/drive/MyDrive/models/vit-gender'\n",
    "processor = ViTImageProcessor.from_pretrained(fine_tuned_model)\n",
    "model = ViTForImageClassification.from_pretrained(fine_tuned_model)"
   ]
  },
  {
   "cell_type": "code",
   "execution_count": null,
   "metadata": {},
   "outputs": [],
   "source": [
    "def classify_image(model, processor, img_path):\n",
    "    \"\"\"\n",
    "    Classify an image using a fine-tuned model.\n",
    "\n",
    "    Parameters\n",
    "    ----------\n",
    "    model : ImageClassification\n",
    "        A fine-tuned model.\n",
    "    processor : ImageProcessor\n",
    "        An ImageProcessor.\n",
    "    img_path : str\n",
    "        Path to the image to classify.\n",
    "\n",
    "    Returns\n",
    "    -------\n",
    "    str\n",
    "        The class label of the image.\n",
    "    \"\"\"\n",
    "    img = Image.open(img_path)\n",
    "    inputs = processor(img, return_tensors='pt')\n",
    "    output = model(**inputs)\n",
    "    proba = output.logits.softmax(1)\n",
    "    preds = proba.argmax(1)\n",
    "\n",
    "    # Return the class label as a string\n",
    "    return 'Divers' if preds.item() == 0 else 'norm-beauty'"
   ]
  },
  {
   "cell_type": "code",
   "execution_count": null,
   "metadata": {},
   "outputs": [],
   "source": [
    "# Directories to loop through\n",
    "folders = [\n",
    "    '/content/drive/MyDrive/folder/valid/IdealisiertNormschön',\n",
    "    '/content/drive/MyDrive/folder/valid/Divers'\n",
    "]"
   ]
  },
  {
   "cell_type": "code",
   "execution_count": null,
   "metadata": {},
   "outputs": [],
   "source": [
    "# Calculate accuracy\n",
    "correct = 0\n",
    "total = 0\n",
    "\n",
    "for folder in folders:\n",
    "    for img_path in glob(os.path.join(folder, '*.jpg')):\n",
    "        pred = classify_image(model, processor, img_path)\n",
    "        total += 1\n",
    "        if folder.split('/')[-1] == pred:\n",
    "            correct += 1\n",
    "\n",
    "print(f'Accuracy: {correct / total:.2f}')\n"
   ]
  },
  {
   "cell_type": "code",
   "execution_count": null,
   "metadata": {},
   "outputs": [],
   "source": [
    "# Loop through each directory\n",
    "for folder in folders:\n",
    "    # Loop through each file in the directory\n",
    "    for img_path in glob(os.path.join(folder, '*.jpg')):  # Add more formats if you have, e.g. png, jpeg\n",
    "        pred_class = classify_image(model, processor, img_path)\n",
    "        true_class = folder.split('/')[-1]\n",
    "        image_name = img_path.split('/')[-1]\n",
    "\n",
    "        # Plot the image and the predicted class label on the title, only if the prediction is wrong\n",
    "        if true_class != pred_class:\n",
    "            img = Image.open(img_path)\n",
    "            plt.imshow(img)\n",
    "            plt.title(f\"The image {image_name} is classified as {pred_class} but is actually {true_class}\")\n",
    "            plt.axis('off')\n",
    "            plt.savefig(f'/content/drive/MyDrive/folder/wrong-predictions/{image_name}.jpg')\n"
   ]
  }
 ],
 "metadata": {
  "language_info": {
   "name": "python"
  },
  "orig_nbformat": 4
 },
 "nbformat": 4,
 "nbformat_minor": 2
}
