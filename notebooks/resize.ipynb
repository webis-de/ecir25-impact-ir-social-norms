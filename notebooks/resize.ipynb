{
 "cells": [
  {
   "cell_type": "markdown",
   "metadata": {},
   "source": [
    "# Resizing\n",
    "This notebook is used to resize the images to 224x224x3"
   ]
  },
  {
   "cell_type": "code",
   "execution_count": 16,
   "metadata": {},
   "outputs": [],
   "source": [
    "from pathlib import Path\n",
    "from PIL import Image\n",
    "from tqdm import tqdm"
   ]
  },
  {
   "cell_type": "code",
   "execution_count": 17,
   "metadata": {},
   "outputs": [],
   "source": [
    "# List of folder pairs (source_folder, target_folder)\n",
    "folder_pairs = [\n",
    "    (\"/Users/pierreachkar/Documents/MA/folder/train/IdealisiertNormschön\", \"/Users/pierreachkar/Documents/MA/folder/train/IdealisiertNormschön\"),\n",
    "    (\"//Users/pierreachkar/Documents/MA/folder/test/IdealisiertNormschön\", \"/Users/pierreachkar/Documents/MA/folder/test/IdealisiertNormschön\"),\n",
    "    (\"/Users/pierreachkar/Documents/MA/folder/valid/IdealisiertNormschön\", \"/Users/pierreachkar/Documents/MA/folder/valid/IdealisiertNormschön\"),\n",
    "    (\"/Users/pierreachkar/Documents/MA/folder/train/Divers\", \"/Users/pierreachkar/Documents/MA/folder/train/Divers\"),\n",
    "    (\"/Users/pierreachkar/Documents/MA/folder/test/Divers\", \"/Users/pierreachkar/Documents/MA/folder/test/Divers\"),\n",
    "    (\"/Users/pierreachkar/Documents/MA/folder/valid/Divers\", \"/Users/pierreachkar/Documents/MA/folder/valid/Divers\")\n",
    "]"
   ]
  },
  {
   "cell_type": "code",
   "execution_count": 18,
   "metadata": {},
   "outputs": [],
   "source": [
    "# Specify the size you want to resize to\n",
    "new_size = (224, 224)"
   ]
  },
  {
   "cell_type": "code",
   "execution_count": 20,
   "metadata": {},
   "outputs": [
    {
     "name": "stderr",
     "output_type": "stream",
     "text": [
      "Processing images in /Users/pierreachkar/Documents/MA/folder/train/IdealisiertNormschön: 100%|██████████| 2268/2268 [03:59<00:00,  9.46it/s]\n"
     ]
    },
    {
     "name": "stdout",
     "output_type": "stream",
     "text": [
      "Image resizing and conversion completed for folder /Users/pierreachkar/Documents/MA/folder/train/IdealisiertNormschön!\n"
     ]
    },
    {
     "name": "stderr",
     "output_type": "stream",
     "text": [
      "Processing images in //Users/pierreachkar/Documents/MA/folder/test/IdealisiertNormschön: 100%|██████████| 47/47 [00:05<00:00,  9.17it/s]\n"
     ]
    },
    {
     "name": "stdout",
     "output_type": "stream",
     "text": [
      "Image resizing and conversion completed for folder //Users/pierreachkar/Documents/MA/folder/test/IdealisiertNormschön!\n"
     ]
    },
    {
     "name": "stderr",
     "output_type": "stream",
     "text": [
      "Processing images in /Users/pierreachkar/Documents/MA/folder/valid/IdealisiertNormschön: 100%|██████████| 47/47 [00:05<00:00,  8.82it/s]\n"
     ]
    },
    {
     "name": "stdout",
     "output_type": "stream",
     "text": [
      "Image resizing and conversion completed for folder /Users/pierreachkar/Documents/MA/folder/valid/IdealisiertNormschön!\n"
     ]
    },
    {
     "name": "stderr",
     "output_type": "stream",
     "text": [
      "Processing images in /Users/pierreachkar/Documents/MA/folder/train/Divers: 100%|██████████| 2185/2185 [03:39<00:00,  9.94it/s]\n"
     ]
    },
    {
     "name": "stdout",
     "output_type": "stream",
     "text": [
      "Image resizing and conversion completed for folder /Users/pierreachkar/Documents/MA/folder/train/Divers!\n"
     ]
    },
    {
     "name": "stderr",
     "output_type": "stream",
     "text": [
      "Processing images in /Users/pierreachkar/Documents/MA/folder/test/Divers: 100%|██████████| 46/46 [00:04<00:00,  9.50it/s]\n"
     ]
    },
    {
     "name": "stdout",
     "output_type": "stream",
     "text": [
      "Image resizing and conversion completed for folder /Users/pierreachkar/Documents/MA/folder/test/Divers!\n"
     ]
    },
    {
     "name": "stderr",
     "output_type": "stream",
     "text": [
      "Processing images in /Users/pierreachkar/Documents/MA/folder/valid/Divers: 100%|██████████| 45/45 [00:05<00:00,  8.92it/s]"
     ]
    },
    {
     "name": "stdout",
     "output_type": "stream",
     "text": [
      "Image resizing and conversion completed for folder /Users/pierreachkar/Documents/MA/folder/valid/Divers!\n"
     ]
    },
    {
     "name": "stderr",
     "output_type": "stream",
     "text": [
      "\n"
     ]
    }
   ],
   "source": [
    "# Loop through each folder pair\n",
    "for source_folder, target_folder in folder_pairs:\n",
    "    source_path = Path(source_folder)\n",
    "    target_path = Path(target_folder)\n",
    "\n",
    "    # Create the target folder if it doesn't exist\n",
    "    target_path.mkdir(parents=True, exist_ok=True)\n",
    "\n",
    "    # Filter out the image files\n",
    "    image_files = [f for f in source_path.iterdir() if f.suffix in ['.jpg', '.jpeg', '.png']]\n",
    "\n",
    "    # Loop over all files in the source folder with tqdm for a progress bar\n",
    "    for img_file in tqdm(image_files, desc=f\"Processing images in {source_folder}\"):\n",
    "        \n",
    "        # Open an image file\n",
    "        img = Image.open(img_file)\n",
    "\n",
    "        # Convert image to RGB if it is not\n",
    "        if img.mode != 'RGB':\n",
    "            img = img.convert('RGB')\n",
    "\n",
    "        # Resize the image\n",
    "        # Resize the image\n",
    "        img = img.resize(new_size, resample=3)\n",
    "\n",
    "\n",
    "        # Save the image\n",
    "        img.save(target_path / img_file.name)\n",
    "\n",
    "    print(f\"Image resizing and conversion completed for folder {source_folder}!\")"
   ]
  }
 ],
 "metadata": {
  "kernelspec": {
   "display_name": "ma",
   "language": "python",
   "name": "python3"
  },
  "language_info": {
   "codemirror_mode": {
    "name": "ipython",
    "version": 3
   },
   "file_extension": ".py",
   "mimetype": "text/x-python",
   "name": "python",
   "nbconvert_exporter": "python",
   "pygments_lexer": "ipython3",
   "version": "3.10.13"
  },
  "orig_nbformat": 4
 },
 "nbformat": 4,
 "nbformat_minor": 2
}
