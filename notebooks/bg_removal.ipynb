{
 "cells": [
  {
   "cell_type": "markdown",
   "metadata": {},
   "source": [
    "# Background removal\n",
    "This notebook is used to remove the background of the images in the dataset."
   ]
  },
  {
   "cell_type": "code",
   "execution_count": 1,
   "metadata": {},
   "outputs": [
    {
     "ename": "",
     "evalue": "",
     "output_type": "error",
     "traceback": [
      "\u001b[1;31mThe Kernel crashed while executing code in the the current cell or a previous cell. Please review the code in the cell(s) to identify a possible cause of the failure. Click <a href='https://aka.ms/vscodeJupyterKernelCrash'>here</a> for more info. View Jupyter <a href='command:jupyter.viewOutput'>log</a> for further details."
     ]
    }
   ],
   "source": [
    "import cv2\n",
    "import torch\n",
    "import numpy as np\n",
    "from torchvision import transforms\n",
    "from PIL import Image\n",
    "from tqdm import tqdm\n",
    "import os"
   ]
  },
  {
   "cell_type": "code",
   "execution_count": null,
   "metadata": {},
   "outputs": [],
   "source": [
    "# Load the pretrained DeepLabV3 model for semantic segmentation\n",
    "model = torch.hub.load('pytorch/vision:v0.6.0', 'deeplabv3_resnet101', pretrained=True)\n",
    "# Set the model to evaluation mode\n",
    "model.eval()"
   ]
  },
  {
   "cell_type": "code",
   "execution_count": null,
   "metadata": {},
   "outputs": [],
   "source": [
    "def make_transparent_foreground(pic, mask):\n",
    "    \"\"\"\n",
    "    This function takes in a PIL image and a mask and returns a transparent foreground image.\n",
    "\n",
    "    Parameters\n",
    "    ----------\n",
    "    pic : PIL image\n",
    "        The image to be made transparent.\n",
    "\n",
    "    mask : numpy array\n",
    "        The mask to be applied to the image.\n",
    "\n",
    "    Returns\n",
    "    -------\n",
    "    foreground : numpy array\n",
    "        The transparent foreground image.\n",
    "    \"\"\"\n",
    "    b, g, r = cv2.split(np.array(pic).astype('uint8'))\n",
    "    a = np.ones(mask.shape, dtype='uint8') * 255\n",
    "    alpha_im = cv2.merge([b, g, r, a], 4)\n",
    "    bg = np.zeros(alpha_im.shape)\n",
    "    new_mask = np.stack([mask, mask, mask, mask], axis=2)\n",
    "    foreground = np.where(new_mask, alpha_im, bg).astype(np.uint8)\n",
    "    return foreground"
   ]
  },
  {
   "cell_type": "code",
   "execution_count": null,
   "metadata": {},
   "outputs": [],
   "source": [
    "def remove_background(input_image):\n",
    "    \"\"\"\n",
    "    This function takes in an image and returns a transparent foreground image and a binary mask.\n",
    "\n",
    "    Parameters\n",
    "    ----------\n",
    "    input_image : PIL image\n",
    "        The image to be made transparent.\n",
    "\n",
    "    Returns\n",
    "    -------\n",
    "    foreground : numpy array\n",
    "        The transparent foreground image.\n",
    "\n",
    "    bin_mask : numpy array\n",
    "        The binary mask.\n",
    "    \"\"\"\n",
    "    preprocess = transforms.Compose([\n",
    "        transforms.ToTensor(),\n",
    "        transforms.Normalize(mean=[0.485, 0.456, 0.406], std=[0.229, 0.224, 0.225]),\n",
    "    ])\n",
    "\n",
    "    input_tensor = preprocess(input_image)\n",
    "    input_batch = input_tensor.unsqueeze(0)\n",
    "\n",
    "    if torch.cuda.is_available():\n",
    "        input_batch = input_batch.to('cuda')\n",
    "        model.to('cuda')\n",
    "\n",
    "    with torch.no_grad():\n",
    "        output = model(input_batch)['out'][0]\n",
    "    output_predictions = output.argmax(0)\n",
    "\n",
    "    mask = output_predictions.byte().cpu().numpy()\n",
    "    background = np.zeros(mask.shape)\n",
    "    bin_mask = np.where(mask, 255, background).astype(np.uint8)\n",
    "\n",
    "    foreground = make_transparent_foreground(input_image, bin_mask)\n",
    "\n",
    "    return foreground, bin_mask"
   ]
  },
  {
   "cell_type": "code",
   "execution_count": null,
   "metadata": {},
   "outputs": [],
   "source": [
    "def batch_remove_background(input_folder, output_folder):\n",
    "    \"\"\"\n",
    "    This function takes in a folder of images and returns a folder of transparent foreground images.\n",
    "\n",
    "    Parameters\n",
    "    ----------\n",
    "    input_folder : str\n",
    "        The path to the folder containing the images to be made transparent.\n",
    "\n",
    "    output_folder : str\n",
    "        The path to the folder where the transparent foreground images will be saved.\n",
    "    \"\"\"\n",
    "    # Create output folder if it doesn't exist\n",
    "    if not os.path.exists(output_folder):\n",
    "        os.makedirs(output_folder)\n",
    "\n",
    "    # Get list of all .jpg files in the input folder\n",
    "    jpg_files = [f for f in os.listdir(input_folder) if f.endswith('.jpg')]\n",
    "    \n",
    "    # Loop through all files in the input folder using tqdm for the progress bar\n",
    "    for filename in tqdm(jpg_files, desc=\"Removing background\"):\n",
    "        if filename.endswith(\".jpg\"):\n",
    "            # Construct the full input path and read the image\n",
    "            input_path = os.path.join(input_folder, filename)\n",
    "            input_image_cv = cv2.imread(input_path)\n",
    "\n",
    "            # Convert the OpenCV image (BGR) to PIL image (RGB)\n",
    "            input_image_pil = Image.fromarray(cv2.cvtColor(input_image_cv, cv2.COLOR_BGR2RGB))\n",
    "\n",
    "            # Remove background\n",
    "            foreground, _ = remove_background(input_image_pil)\n",
    "\n",
    "            # Convert the foreground back to OpenCV format\n",
    "            foreground_cv = cv2.cvtColor(np.array(foreground), cv2.COLOR_RGBA2BGRA)\n",
    "\n",
    "            # Construct the full output path and save the image\n",
    "            output_path = os.path.join(output_folder, f\"foreground_{filename}\")\n",
    "            cv2.imwrite(output_path, foreground_cv)"
   ]
  },
  {
   "cell_type": "code",
   "execution_count": null,
   "metadata": {},
   "outputs": [],
   "source": [
    "batch_remove_background(\"/path/to/input/folder\", \"/path/to/output/folder\")"
   ]
  }
 ],
 "metadata": {
  "kernelspec": {
   "display_name": "ma",
   "language": "python",
   "name": "python3"
  },
  "language_info": {
   "codemirror_mode": {
    "name": "ipython",
    "version": 3
   },
   "file_extension": ".py",
   "mimetype": "text/x-python",
   "name": "python",
   "nbconvert_exporter": "python",
   "pygments_lexer": "ipython3",
   "version": "3.10.12"
  },
  "orig_nbformat": 4
 },
 "nbformat": 4,
 "nbformat_minor": 2
}
